{
 "cells": [
  {
   "cell_type": "markdown",
   "id": "a8c48926-155f-429b-ab8c-3e7ff133f1da",
   "metadata": {},
   "source": [
    "# Pandas "
   ]
  },
  {
   "cell_type": "code",
   "execution_count": 1,
   "id": "93aa91d2-026a-431f-8c89-0e03b4cc68ea",
   "metadata": {},
   "outputs": [
    {
     "data": {
      "text/plain": [
       "'1.5.3'"
      ]
     },
     "execution_count": 1,
     "metadata": {},
     "output_type": "execute_result"
    }
   ],
   "source": [
    "import pandas as pd\n",
    "# verificar versión de pandas\n",
    "pd.__version__"
   ]
  },
  {
   "cell_type": "markdown",
   "id": "158af248-e2b2-4e67-afdc-12811a61469c",
   "metadata": {},
   "source": [
    "# Spark Session"
   ]
  },
  {
   "cell_type": "code",
   "execution_count": 2,
   "id": "b76b93ca-a797-46b6-95fd-60ba222f005f",
   "metadata": {},
   "outputs": [],
   "source": [
    "from pyspark.sql import SparkSession\n",
    "spark = SparkSession.builder \\\n",
    "    .appName(\"Leer datos desde Excel\") \\\n",
    "    .getOrCreate()"
   ]
  },
  {
   "cell_type": "markdown",
   "id": "9f81aa8e-716b-450d-9a96-35cdf5294cc5",
   "metadata": {},
   "source": [
    "## Lectura de datos con Pandas"
   ]
  },
  {
   "cell_type": "code",
   "execution_count": 3,
   "id": "d08135ef-52b6-434d-b387-b87d01d997f5",
   "metadata": {},
   "outputs": [
    {
     "data": {
      "text/html": [
       "<div>\n",
       "<style scoped>\n",
       "    .dataframe tbody tr th:only-of-type {\n",
       "        vertical-align: middle;\n",
       "    }\n",
       "\n",
       "    .dataframe tbody tr th {\n",
       "        vertical-align: top;\n",
       "    }\n",
       "\n",
       "    .dataframe thead th {\n",
       "        text-align: right;\n",
       "    }\n",
       "</style>\n",
       "<table border=\"1\" class=\"dataframe\">\n",
       "  <thead>\n",
       "    <tr style=\"text-align: right;\">\n",
       "      <th></th>\n",
       "      <th>ANOMESDIA</th>\n",
       "      <th>energia</th>\n",
       "      <th>RAD</th>\n",
       "      <th>P.AC</th>\n",
       "      <th>T.INV</th>\n",
       "      <th>T.amb</th>\n",
       "      <th>H.REL</th>\n",
       "      <th>E_W_D</th>\n",
       "      <th>T.PRE</th>\n",
       "      <th>E_W_S</th>\n",
       "      <th>E_RF_DIF</th>\n",
       "      <th>E_RF_I1</th>\n",
       "      <th>E_AH_ABS1</th>\n",
       "      <th>E_AP_ABS1</th>\n",
       "      <th>fecha</th>\n",
       "      <th>Dummy_Anomalia</th>\n",
       "      <th>Dummy_bajaenergia</th>\n",
       "      <th>Dummy_fallainv</th>\n",
       "      <th>Falla Inversor</th>\n",
       "      <th>AUX</th>\n",
       "    </tr>\n",
       "  </thead>\n",
       "  <tbody>\n",
       "    <tr>\n",
       "      <th>0</th>\n",
       "      <td>2022-06-01</td>\n",
       "      <td>8618.853739</td>\n",
       "      <td>26068.299</td>\n",
       "      <td>3.482456e+07</td>\n",
       "      <td>35.8</td>\n",
       "      <td>4.4945</td>\n",
       "      <td>71.106</td>\n",
       "      <td>199.828</td>\n",
       "      <td>0</td>\n",
       "      <td>0.801</td>\n",
       "      <td>0.0</td>\n",
       "      <td>0.0</td>\n",
       "      <td>4.4855</td>\n",
       "      <td>1002.9945</td>\n",
       "      <td>2022-06-01</td>\n",
       "      <td>0</td>\n",
       "      <td>NaN</td>\n",
       "      <td>1</td>\n",
       "      <td>2-4</td>\n",
       "      <td>0</td>\n",
       "    </tr>\n",
       "  </tbody>\n",
       "</table>\n",
       "</div>"
      ],
      "text/plain": [
       "   ANOMESDIA      energia        RAD          P.AC  T.INV   T.amb   H.REL  \\\n",
       "0 2022-06-01  8618.853739  26068.299  3.482456e+07   35.8  4.4945  71.106   \n",
       "\n",
       "     E_W_D  T.PRE  E_W_S  E_RF_DIF  E_RF_I1  E_AH_ABS1  E_AP_ABS1      fecha  \\\n",
       "0  199.828      0  0.801       0.0      0.0     4.4855  1002.9945 2022-06-01   \n",
       "\n",
       "   Dummy_Anomalia  Dummy_bajaenergia  Dummy_fallainv Falla Inversor  AUX  \n",
       "0               0                NaN               1            2-4    0  "
      ]
     },
     "execution_count": 3,
     "metadata": {},
     "output_type": "execute_result"
    }
   ],
   "source": [
    "file = pd.ExcelFile(\"datos.xlsx\").sheet_names\n",
    "df = pd.read_excel(\"datos.xlsx\",sheet_name=file[0])\n",
    "df.head(1)"
   ]
  },
  {
   "cell_type": "markdown",
   "id": "9209660f-9d3e-401f-aa69-c118d2a5c3a5",
   "metadata": {},
   "source": [
    "## Convertir `pandas.dataframe` a `spark.dataframe`"
   ]
  },
  {
   "cell_type": "code",
   "execution_count": 4,
   "id": "fcf7b560-7479-4096-8131-83bdeb34f610",
   "metadata": {},
   "outputs": [
    {
     "name": "stdout",
     "output_type": "stream",
     "text": [
      "+-------------------+-----------------+---------+--------------+-----+------+------+-------+-----+------------------+--------+-------+---------+---------+-------------------+--------------+-----------------+--------------+--------------+---+\n",
      "|          ANOMESDIA|          energia|      RAD|          P.AC|T.INV| T.amb| H.REL|  E_W_D|T.PRE|             E_W_S|E_RF_DIF|E_RF_I1|E_AH_ABS1|E_AP_ABS1|              fecha|Dummy_Anomalia|Dummy_bajaenergia|Dummy_fallainv|Falla Inversor|AUX|\n",
      "+-------------------+-----------------+---------+--------------+-----+------+------+-------+-----+------------------+--------+-------+---------+---------+-------------------+--------------+-----------------+--------------+--------------+---+\n",
      "|2022-06-01 00:00:00|8618.853739099999|26068.299|3.4824561559E7| 35.8|4.4945|71.106|199.828|    0|0.8009999999999999|     0.0|    0.0|   4.4855|1002.9945|2022-06-01 00:00:00|             0|              NaN|             1|           2-4|  0|\n",
      "+-------------------+-----------------+---------+--------------+-----+------+------+-------+-----+------------------+--------+-------+---------+---------+-------------------+--------------+-----------------+--------------+--------------+---+\n",
      "only showing top 1 row\n",
      "\n"
     ]
    }
   ],
   "source": [
    "df = spark.createDataFrame(df)\n",
    "df.show(1)"
   ]
  },
  {
   "cell_type": "code",
   "execution_count": null,
   "id": "db92b424-0ec2-4e82-90f0-3ea26286907d",
   "metadata": {},
   "outputs": [],
   "source": []
  }
 ],
 "metadata": {
  "kernelspec": {
   "display_name": "Python 3 (ipykernel)",
   "language": "python",
   "name": "python3"
  },
  "language_info": {
   "codemirror_mode": {
    "name": "ipython",
    "version": 3
   },
   "file_extension": ".py",
   "mimetype": "text/x-python",
   "name": "python",
   "nbconvert_exporter": "python",
   "pygments_lexer": "ipython3",
   "version": "3.11.4"
  }
 },
 "nbformat": 4,
 "nbformat_minor": 5
}
